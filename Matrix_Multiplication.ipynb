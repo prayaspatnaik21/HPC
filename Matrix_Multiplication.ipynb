{
  "nbformat": 4,
  "nbformat_minor": 0,
  "metadata": {
    "colab": {
      "provenance": [],
      "gpuType": "T4",
      "authorship_tag": "ABX9TyPXT9nJxsW4o0I0eR6zseFo",
      "include_colab_link": true
    },
    "kernelspec": {
      "name": "python3",
      "display_name": "Python 3"
    },
    "language_info": {
      "name": "python"
    },
    "accelerator": "GPU"
  },
  "cells": [
    {
      "cell_type": "markdown",
      "metadata": {
        "id": "view-in-github",
        "colab_type": "text"
      },
      "source": [
        "<a href=\"https://colab.research.google.com/github/prayaspatnaik21/HPC/blob/main/Matrix_Multiplication.ipynb\" target=\"_parent\"><img src=\"https://colab.research.google.com/assets/colab-badge.svg\" alt=\"Open In Colab\"/></a>"
      ]
    },
    {
      "cell_type": "code",
      "execution_count": 1,
      "metadata": {
        "id": "fi-y6S2owE9G",
        "colab": {
          "base_uri": "https://localhost:8080/"
        },
        "outputId": "a2656570-fc8f-4577-eec9-1cd60574c6d8"
      },
      "outputs": [
        {
          "output_type": "stream",
          "name": "stdout",
          "text": [
            "Reading package lists... Done\n",
            "Building dependency tree... Done\n",
            "Reading state information... Done\n",
            "The following packages were automatically installed and are no longer required:\n",
            "  adwaita-icon-theme dbus-user-session dconf-gsettings-backend dconf-service gtk-update-icon-cache\n",
            "  hicolor-icon-theme humanity-icon-theme libatk-bridge2.0-0 libatk1.0-0 libatk1.0-data\n",
            "  libatspi2.0-0 libavcodec-dev libavformat-dev libavutil-dev libcharls2 libcolord2 libdc1394-dev\n",
            "  libdconf1 libdouble-conversion3 libepoxy0 libexif-dev libexif12 libgdcm-dev libgdcm3.0\n",
            "  libgl2ps1.4 libglew2.2 libgphoto2-6 libgphoto2-dev libgphoto2-port12\n",
            "  libgstreamer-plugins-base1.0-0 libgtk-3-0 libgtk-3-common libilmbase-dev libilmbase25 liblept5\n",
            "  libopencv-calib3d-dev libopencv-calib3d4.5d libopencv-contrib-dev libopencv-contrib4.5d\n",
            "  libopencv-core-dev libopencv-core4.5d libopencv-dnn-dev libopencv-dnn4.5d\n",
            "  libopencv-features2d-dev libopencv-features2d4.5d libopencv-flann-dev libopencv-flann4.5d\n",
            "  libopencv-highgui-dev libopencv-highgui4.5d libopencv-imgcodecs-dev libopencv-imgcodecs4.5d\n",
            "  libopencv-imgproc-dev libopencv-imgproc4.5d libopencv-ml-dev libopencv-ml4.5d\n",
            "  libopencv-objdetect-dev libopencv-objdetect4.5d libopencv-photo-dev libopencv-photo4.5d\n",
            "  libopencv-shape-dev libopencv-shape4.5d libopencv-stitching-dev libopencv-stitching4.5d\n",
            "  libopencv-superres-dev libopencv-superres4.5d libopencv-video-dev libopencv-video4.5d\n",
            "  libopencv-videoio-dev libopencv-videoio4.5d libopencv-videostab-dev libopencv-videostab4.5d\n",
            "  libopencv-viz-dev libopencv-viz4.5d libopenexr-dev libopenexr25 liborc-0.4-0 libraw1394-dev\n",
            "  libsocket++1 libswresample-dev libswscale-dev libtbb-dev libtbb12 libtbbmalloc2 libtesseract4\n",
            "  libvtk9.1 libxcomposite1 libxdamage1 ubuntu-mono\n",
            "Use 'apt autoremove' to remove them.\n",
            "The following packages will be REMOVED:\n",
            "  libopencv-dev\n",
            "0 upgraded, 0 newly installed, 1 to remove and 49 not upgraded.\n",
            "After this operation, 384 kB disk space will be freed.\n",
            "(Reading database ... 123632 files and directories currently installed.)\n",
            "Removing libopencv-dev (4.5.4+dfsg-9ubuntu4+jammy0) ...\n",
            "Processing triggers for man-db (2.10.2-1) ...\n",
            "Get:1 https://cloud.r-project.org/bin/linux/ubuntu jammy-cran40/ InRelease [3,626 B]\n",
            "Get:2 https://developer.download.nvidia.com/compute/cuda/repos/ubuntu2204/x86_64  InRelease [1,581 B]\n",
            "Get:3 http://security.ubuntu.com/ubuntu jammy-security InRelease [129 kB]\n",
            "Get:4 https://r2u.stat.illinois.edu/ubuntu jammy InRelease [6,555 B]\n",
            "Get:5 https://developer.download.nvidia.com/compute/cuda/repos/ubuntu2204/x86_64  Packages [1,199 kB]\n",
            "Hit:6 http://archive.ubuntu.com/ubuntu jammy InRelease\n",
            "Get:7 https://r2u.stat.illinois.edu/ubuntu jammy/main amd64 Packages [2,639 kB]\n",
            "Get:8 http://archive.ubuntu.com/ubuntu jammy-updates InRelease [128 kB]\n",
            "Get:9 http://security.ubuntu.com/ubuntu jammy-security/multiverse amd64 Packages [45.2 kB]\n",
            "Get:10 http://security.ubuntu.com/ubuntu jammy-security/universe amd64 Packages [1,227 kB]\n",
            "Hit:11 https://ppa.launchpadcontent.net/deadsnakes/ppa/ubuntu jammy InRelease\n",
            "Hit:12 https://ppa.launchpadcontent.net/graphics-drivers/ppa/ubuntu jammy InRelease\n",
            "Get:13 https://r2u.stat.illinois.edu/ubuntu jammy/main all Packages [8,584 kB]\n",
            "Get:14 http://security.ubuntu.com/ubuntu jammy-security/restricted amd64 Packages [3,527 kB]\n",
            "Hit:15 https://ppa.launchpadcontent.net/ubuntugis/ppa/ubuntu jammy InRelease\n",
            "Get:16 http://security.ubuntu.com/ubuntu jammy-security/main amd64 Packages [2,560 kB]\n",
            "Get:17 http://archive.ubuntu.com/ubuntu jammy-backports InRelease [127 kB]\n",
            "Get:18 http://archive.ubuntu.com/ubuntu jammy-updates/universe amd64 Packages [1,518 kB]\n",
            "Get:19 http://archive.ubuntu.com/ubuntu jammy-updates/main amd64 Packages [2,859 kB]\n",
            "Get:20 http://archive.ubuntu.com/ubuntu jammy-updates/restricted amd64 Packages [3,663 kB]\n",
            "Fetched 28.2 MB in 4s (6,645 kB/s)\n",
            "Reading package lists... Done\n",
            "W: Skipping acquire of configured file 'main/source/Sources' as repository 'https://r2u.stat.illinois.edu/ubuntu jammy InRelease' does not seem to provide it (sources.list entry misspelt?)\n",
            "Reading package lists... Done\n",
            "Building dependency tree... Done\n",
            "Reading state information... Done\n",
            "The following additional packages will be installed:\n",
            "  libopencv4.5-java libopencv4.5d-jni opencv-data\n",
            "Suggested packages:\n",
            "  opencv-doc\n",
            "The following NEW packages will be installed:\n",
            "  libopencv-dev libopencv4.5-java libopencv4.5d-jni opencv-data\n",
            "0 upgraded, 4 newly installed, 0 to remove and 51 not upgraded.\n",
            "Need to get 2,989 kB of archives.\n",
            "After this operation, 14.5 MB of additional disk space will be used.\n",
            "Get:1 https://ppa.launchpadcontent.net/ubuntugis/ppa/ubuntu jammy/main amd64 libopencv-dev amd64 4.5.4+dfsg-9ubuntu4+jammy0 [109 kB]\n",
            "Get:2 https://ppa.launchpadcontent.net/ubuntugis/ppa/ubuntu jammy/main amd64 libopencv4.5d-jni amd64 4.5.4+dfsg-9ubuntu4+jammy0 [506 kB]\n",
            "Get:3 https://ppa.launchpadcontent.net/ubuntugis/ppa/ubuntu jammy/main amd64 libopencv4.5-java amd64 4.5.4+dfsg-9ubuntu4+jammy0 [1,002 kB]\n",
            "Get:4 https://ppa.launchpadcontent.net/ubuntugis/ppa/ubuntu jammy/main amd64 opencv-data all 4.5.4+dfsg-9ubuntu4+jammy0 [1,371 kB]\n",
            "Fetched 2,989 kB in 2s (1,583 kB/s)\n",
            "Selecting previously unselected package libopencv-dev.\n",
            "(Reading database ... 123610 files and directories currently installed.)\n",
            "Preparing to unpack .../libopencv-dev_4.5.4+dfsg-9ubuntu4+jammy0_amd64.deb ...\n",
            "Unpacking libopencv-dev (4.5.4+dfsg-9ubuntu4+jammy0) ...\n",
            "Selecting previously unselected package libopencv4.5d-jni.\n",
            "Preparing to unpack .../libopencv4.5d-jni_4.5.4+dfsg-9ubuntu4+jammy0_amd64.deb ...\n",
            "Unpacking libopencv4.5d-jni (4.5.4+dfsg-9ubuntu4+jammy0) ...\n",
            "Selecting previously unselected package libopencv4.5-java.\n",
            "Preparing to unpack .../libopencv4.5-java_4.5.4+dfsg-9ubuntu4+jammy0_amd64.deb ...\n",
            "Unpacking libopencv4.5-java (4.5.4+dfsg-9ubuntu4+jammy0) ...\n",
            "Selecting previously unselected package opencv-data.\n",
            "Preparing to unpack .../opencv-data_4.5.4+dfsg-9ubuntu4+jammy0_all.deb ...\n",
            "Unpacking opencv-data (4.5.4+dfsg-9ubuntu4+jammy0) ...\n",
            "Setting up libopencv4.5d-jni (4.5.4+dfsg-9ubuntu4+jammy0) ...\n",
            "Setting up libopencv4.5-java (4.5.4+dfsg-9ubuntu4+jammy0) ...\n",
            "Setting up libopencv-dev (4.5.4+dfsg-9ubuntu4+jammy0) ...\n",
            "Setting up opencv-data (4.5.4+dfsg-9ubuntu4+jammy0) ...\n",
            "Processing triggers for man-db (2.10.2-1) ...\n"
          ]
        }
      ],
      "source": [
        "!apt-get remove libopencv-dev\n",
        "!apt-get update\n",
        "!apt-get install libopencv-dev"
      ]
    },
    {
      "cell_type": "code",
      "source": [
        "%%writefile matrixMultiplication.cu\n",
        "#include <cuda_runtime.h>\n",
        "#include <iostream>\n",
        "\n",
        "// CUDA Kernel for Matrix Multiplication\n",
        "__global__ void matrixMultiplicationKernel(unsigned int* pIn1, unsigned int* pIn2, unsigned int* pOut, int m, int n, int k)\n",
        "{\n",
        "    // m : rows in pIn1\n",
        "    // n : columns in pIn2\n",
        "    // k : columns in pIn1 and rows in pIn2\n",
        "\n",
        "    int row = blockIdx.y * blockDim.y + threadIdx.y;\n",
        "    int col = blockIdx.x * blockDim.x + threadIdx.x;\n",
        "\n",
        "    if (row < m && col < n)\n",
        "    {\n",
        "        float sum = 0.0f;\n",
        "\n",
        "        for (int index = 0; index < k; index++)\n",
        "        {\n",
        "            sum += pIn1[row * k + index] * pIn2[index * n + col];\n",
        "        }\n",
        "        pOut[row * n + col] = static_cast<unsigned int>(sum);\n",
        "    }\n",
        "}\n",
        "\n",
        "void initializeMatrix(unsigned int* pIn, int m, int n)\n",
        "{\n",
        "    unsigned int count = 0;\n",
        "    for (int index = 0; index < m * n; index++)\n",
        "    {\n",
        "        pIn[index] = count++;\n",
        "    }\n",
        "}\n",
        "\n",
        "// Function to verify the result on the CPU\n",
        "void verifyResult(unsigned int* A, unsigned int* B, unsigned int* C, int m, int n, int k)\n",
        "{\n",
        "    for (int i = 0; i < m; ++i)\n",
        "    {\n",
        "        for (int j = 0; j < n; ++j)\n",
        "        {\n",
        "            unsigned int value = 0;\n",
        "            for (int x = 0; x < k; ++x)\n",
        "            {\n",
        "                value += A[i * k + x] * B[x * n + j];\n",
        "            }\n",
        "            if (C[i * n + j] != value)\n",
        "            {\n",
        "                std::cerr << \"Verification failed at (\" << i << \", \" << j << \")\\n\";\n",
        "                return;\n",
        "            }\n",
        "        }\n",
        "    }\n",
        "    std::cout << \"Verification passed!\\n\";\n",
        "}\n",
        "\n",
        "void print(unsigned int* pIn, int m, int n)\n",
        "{\n",
        "    for(int i =0 ; i < m  ; i++)\n",
        "    {\n",
        "      for(int j = 0 ;j < n ; j++)\n",
        "      {\n",
        "        std::cout << pIn[i * n + j] << \" \";\n",
        "      }\n",
        "      std::cout << std::endl;\n",
        "    }\n",
        "}\n",
        "\n",
        "int main()\n",
        "{\n",
        "    // Size of the two matrices:\n",
        "    // m : rows in pIn1\n",
        "    // n : columns in pIn2\n",
        "    // k : columns in pIn1 and rows in pIn2\n",
        "    const int m = 2;\n",
        "    const int n = 4;\n",
        "    const int k = 3;\n",
        "\n",
        "    const int size_a = m * k * sizeof(unsigned int);\n",
        "    const int size_b = k * n * sizeof(unsigned int);\n",
        "    const int size_c = m * n * sizeof(unsigned int);\n",
        "\n",
        "    // Allocate memory on the host\n",
        "    unsigned int *pIn1, *pIn2, *pOut;\n",
        "    pIn1 = (unsigned int*)malloc(size_a);\n",
        "    pIn2 = (unsigned int*)malloc(size_b);\n",
        "    pOut = (unsigned int*)malloc(size_c);\n",
        "\n",
        "    initializeMatrix(pIn1, m, k);\n",
        "    initializeMatrix(pIn2, k, n);\n",
        "\n",
        "    print(pIn1 , m , k);\n",
        "    printf(\"*******************\\n\");\n",
        "    print(pIn2 , k , n);\n",
        "    printf(\"*******************\\n\");\n",
        "\n",
        "    // Allocate memory on the device\n",
        "    unsigned int* d_pIn1;\n",
        "    unsigned int* d_pIn2;\n",
        "    unsigned int* d_pOut;\n",
        "\n",
        "    cudaMalloc(&d_pIn1, size_a);\n",
        "    cudaMalloc(&d_pIn2, size_b);\n",
        "    cudaMalloc(&d_pOut, size_c);\n",
        "\n",
        "    // Copy matrices to the device\n",
        "    cudaMemcpy(d_pIn1, pIn1, size_a, cudaMemcpyHostToDevice);\n",
        "    cudaMemcpy(d_pIn2, pIn2, size_b, cudaMemcpyHostToDevice);\n",
        "\n",
        "    // Define block and grid sizes\n",
        "    dim3 blockDim(16, 16);\n",
        "    dim3 gridDim((n + blockDim.x - 1) / blockDim.x, (m + blockDim.y - 1) / blockDim.y);\n",
        "\n",
        "    // Launch the kernel\n",
        "    matrixMultiplicationKernel<<<gridDim, blockDim>>>(d_pIn1, d_pIn2, d_pOut, m, n, k);\n",
        "\n",
        "    // Copy the result back to the host\n",
        "    cudaMemcpy(pOut, d_pOut, size_c, cudaMemcpyDeviceToHost);\n",
        "    print(pOut , m , n);\n",
        "    // Verify the result\n",
        "    verifyResult(pIn1, pIn2, pOut, m, n, k);\n",
        "\n",
        "    // Free memory\n",
        "    cudaFree(d_pIn1);\n",
        "    cudaFree(d_pIn2);\n",
        "    cudaFree(d_pOut);\n",
        "    free(pIn1);\n",
        "    free(pIn2);\n",
        "    free(pOut);\n",
        "\n",
        "    return 0;\n",
        "}\n"
      ],
      "metadata": {
        "id": "H10rVbaZ4ff4",
        "colab": {
          "base_uri": "https://localhost:8080/"
        },
        "outputId": "e8e0b0e6-aee5-4dce-d92a-488c7cd1d4c7"
      },
      "execution_count": 15,
      "outputs": [
        {
          "output_type": "stream",
          "name": "stdout",
          "text": [
            "Overwriting matrixMultiplication.cu\n"
          ]
        }
      ]
    },
    {
      "cell_type": "code",
      "source": [
        "!nvcc matrixMultiplication.cu -o matrixMultiplication -I/usr/include/opencv4 `pkg-config --cflags --libs opencv4`"
      ],
      "metadata": {
        "id": "pU4mdoFPOPLN"
      },
      "execution_count": 16,
      "outputs": []
    },
    {
      "cell_type": "code",
      "source": [
        "!./matrixMultiplication"
      ],
      "metadata": {
        "colab": {
          "base_uri": "https://localhost:8080/"
        },
        "id": "SHvfmrhTyV8r",
        "outputId": "ac0e022d-ef93-48bc-e71b-17741fee7a83"
      },
      "execution_count": 17,
      "outputs": [
        {
          "output_type": "stream",
          "name": "stdout",
          "text": [
            "0 1 2 \n",
            "3 4 5 \n",
            "*******************\n",
            "0 1 2 3 \n",
            "4 5 6 7 \n",
            "8 9 10 11 \n",
            "*******************\n",
            "20 23 26 29 \n",
            "56 68 80 92 \n",
            "Verification passed!\n"
          ]
        }
      ]
    },
    {
      "cell_type": "code",
      "source": [],
      "metadata": {
        "id": "CwRyjbkEzC4h"
      },
      "execution_count": null,
      "outputs": []
    }
  ]
}