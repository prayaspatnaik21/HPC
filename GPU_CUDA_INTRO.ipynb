{
  "nbformat": 4,
  "nbformat_minor": 0,
  "metadata": {
    "colab": {
      "provenance": [],
      "gpuType": "T4",
      "authorship_tag": "ABX9TyMYNGPqcGLQqVFwKIh+ieOo",
      "include_colab_link": true
    },
    "kernelspec": {
      "name": "python3",
      "display_name": "Python 3"
    },
    "language_info": {
      "name": "python"
    },
    "accelerator": "GPU"
  },
  "cells": [
    {
      "cell_type": "markdown",
      "metadata": {
        "id": "view-in-github",
        "colab_type": "text"
      },
      "source": [
        "<a href=\"https://colab.research.google.com/github/prayaspatnaik21/HPC/blob/main/GPU_CUDA_INTRO.ipynb\" target=\"_parent\"><img src=\"https://colab.research.google.com/assets/colab-badge.svg\" alt=\"Open In Colab\"/></a>"
      ]
    },
    {
      "cell_type": "code",
      "execution_count": 2,
      "metadata": {
        "colab": {
          "base_uri": "https://localhost:8080/"
        },
        "id": "knB53KSKVm12",
        "outputId": "ea9f116a-e977-4943-d837-5a07be6cfc66"
      },
      "outputs": [
        {
          "output_type": "stream",
          "name": "stdout",
          "text": [
            "nvcc: NVIDIA (R) Cuda compiler driver\n",
            "Copyright (c) 2005-2023 NVIDIA Corporation\n",
            "Built on Tue_Aug_15_22:02:13_PDT_2023\n",
            "Cuda compilation tools, release 12.2, V12.2.140\n",
            "Build cuda_12.2.r12.2/compiler.33191640_0\n"
          ]
        }
      ],
      "source": [
        "!nvcc --version"
      ]
    },
    {
      "cell_type": "code",
      "source": [
        "!apt-get update\n",
        "!apt-get install -y cuda\n"
      ],
      "metadata": {
        "colab": {
          "base_uri": "https://localhost:8080/"
        },
        "id": "MKrQJoNeWb6N",
        "outputId": "dccc4eda-1fcd-47a0-c61b-c0ce4c0a74a4"
      },
      "execution_count": 3,
      "outputs": [
        {
          "output_type": "stream",
          "name": "stdout",
          "text": [
            "\r0% [Working]\r            \rHit:1 http://archive.ubuntu.com/ubuntu jammy InRelease\n",
            "\r0% [Waiting for headers] [Connected to cloud.r-project.org (65.9.86.109)] [Connecting to r2u.stat.il\r                                                                                                    \rGet:2 http://archive.ubuntu.com/ubuntu jammy-updates InRelease [128 kB]\n",
            "\r                                                                                                    \rGet:3 http://archive.ubuntu.com/ubuntu jammy-backports InRelease [127 kB]\n",
            "\r                                                                                                    \rGet:4 http://security.ubuntu.com/ubuntu jammy-security InRelease [129 kB]\n",
            "\r0% [Waiting for headers] [Connecting to r2u.stat.illinois.edu (192.17.190.167)] [Waiting for headers\r                                                                                                    \rGet:5 https://cloud.r-project.org/bin/linux/ubuntu jammy-cran40/ InRelease [3,626 B]\n",
            "\r0% [5 InRelease 0 B/3,626 B 0%] [Connecting to r2u.stat.illinois.edu (192.17.190.167)] [Waiting for \r0% [Connecting to r2u.stat.illinois.edu (192.17.190.167)] [Waiting for headers] [Waiting for headers\r                                                                                                    \rHit:6 https://developer.download.nvidia.com/compute/cuda/repos/ubuntu2204/x86_64  InRelease\n",
            "\r                                                                                                    \r0% [Connecting to r2u.stat.illinois.edu (192.17.190.167)] [Waiting for headers]\r                                                                               \rHit:7 https://ppa.launchpadcontent.net/deadsnakes/ppa/ubuntu jammy InRelease\n",
            "\r0% [Connecting to r2u.stat.illinois.edu (192.17.190.167)] [Waiting for headers]\r                                                                               \rHit:8 https://ppa.launchpadcontent.net/graphics-drivers/ppa/ubuntu jammy InRelease\n",
            "Hit:9 https://ppa.launchpadcontent.net/ubuntugis/ppa/ubuntu jammy InRelease\n",
            "Get:10 https://r2u.stat.illinois.edu/ubuntu jammy InRelease [6,555 B]\n",
            "Get:11 http://archive.ubuntu.com/ubuntu jammy-updates/universe amd64 Packages [1,517 kB]\n",
            "Get:12 http://archive.ubuntu.com/ubuntu jammy-updates/restricted amd64 Packages [3,614 kB]\n",
            "Get:13 http://archive.ubuntu.com/ubuntu jammy-updates/main amd64 Packages [2,830 kB]\n",
            "Get:14 http://archive.ubuntu.com/ubuntu jammy-backports/main amd64 Packages [81.4 kB]\n",
            "Get:15 http://archive.ubuntu.com/ubuntu jammy-backports/universe amd64 Packages [33.8 kB]\n",
            "Get:16 http://security.ubuntu.com/ubuntu jammy-security/universe amd64 Packages [1,226 kB]\n",
            "Get:17 http://security.ubuntu.com/ubuntu jammy-security/restricted amd64 Packages [3,448 kB]\n",
            "Get:18 http://security.ubuntu.com/ubuntu jammy-security/main amd64 Packages [2,517 kB]\n",
            "Get:19 https://r2u.stat.illinois.edu/ubuntu jammy/main amd64 Packages [2,631 kB]\n",
            "Get:20 https://r2u.stat.illinois.edu/ubuntu jammy/main all Packages [8,567 kB]\n",
            "Fetched 26.9 MB in 5s (5,059 kB/s)\n",
            "Reading package lists... Done\n",
            "W: Skipping acquire of configured file 'main/source/Sources' as repository 'https://r2u.stat.illinois.edu/ubuntu jammy InRelease' does not seem to provide it (sources.list entry misspelt?)\n",
            "Reading package lists... Done\n",
            "Building dependency tree... Done\n",
            "Reading state information... Done\n",
            "Some packages could not be installed. This may mean that you have\n",
            "requested an impossible situation or if you are using the unstable\n",
            "distribution that some required packages have not yet been created\n",
            "or been moved out of Incoming.\n",
            "The following information may help to resolve the situation:\n",
            "\n",
            "The following packages have unmet dependencies:\n",
            " nvidia-open : Depends: nvidia-driver-565-open (>= 565.57.01) but it is not installable or\n",
            "                        nvidia-driver-565-server-open (>= 565.57.01) but it is not installable\n",
            "E: Unable to correct problems, you have held broken packages.\n"
          ]
        }
      ]
    },
    {
      "cell_type": "code",
      "source": [
        "# Write the CUDA code\n",
        "%%writefile hello.cu\n",
        "#include <stdio.h>\n",
        "\n",
        "__global__ void helloFromGPU(void)\n",
        "{\n",
        "  printf(\"Hello world from GPU , Hooray , I am learning CUDA\\n\");\n",
        "}\n",
        "\n",
        "int main(void)\n",
        "{\n",
        "  helloFromGPU <<< 1,19>>>();\n",
        "  cudaDeviceReset();\n",
        "  return 0;\n",
        "}"
      ],
      "metadata": {
        "colab": {
          "base_uri": "https://localhost:8080/"
        },
        "id": "kYJh6sSkWoVn",
        "outputId": "ad721e97-575d-4049-ea74-ca0b20e3f98b"
      },
      "execution_count": 4,
      "outputs": [
        {
          "output_type": "stream",
          "name": "stdout",
          "text": [
            "Writing hello.cu\n"
          ]
        }
      ]
    },
    {
      "cell_type": "code",
      "source": [
        "# Compile the CUDA code\n",
        "!nvcc hello.cu -o hello\n",
        "\n",
        "# Run the compiled CUDA program\n",
        "!./hello"
      ],
      "metadata": {
        "colab": {
          "base_uri": "https://localhost:8080/"
        },
        "id": "JNIWFOBpWqff",
        "outputId": "076d556f-a270-4a82-c7b5-0e8abd1b4b98"
      },
      "execution_count": 5,
      "outputs": [
        {
          "output_type": "stream",
          "name": "stdout",
          "text": [
            "Hello world from GPU , Hooray , I am learning CUDA\n",
            "Hello world from GPU , Hooray , I am learning CUDA\n",
            "Hello world from GPU , Hooray , I am learning CUDA\n",
            "Hello world from GPU , Hooray , I am learning CUDA\n",
            "Hello world from GPU , Hooray , I am learning CUDA\n",
            "Hello world from GPU , Hooray , I am learning CUDA\n",
            "Hello world from GPU , Hooray , I am learning CUDA\n",
            "Hello world from GPU , Hooray , I am learning CUDA\n",
            "Hello world from GPU , Hooray , I am learning CUDA\n",
            "Hello world from GPU , Hooray , I am learning CUDA\n",
            "Hello world from GPU , Hooray , I am learning CUDA\n",
            "Hello world from GPU , Hooray , I am learning CUDA\n",
            "Hello world from GPU , Hooray , I am learning CUDA\n",
            "Hello world from GPU , Hooray , I am learning CUDA\n",
            "Hello world from GPU , Hooray , I am learning CUDA\n",
            "Hello world from GPU , Hooray , I am learning CUDA\n",
            "Hello world from GPU , Hooray , I am learning CUDA\n",
            "Hello world from GPU , Hooray , I am learning CUDA\n",
            "Hello world from GPU , Hooray , I am learning CUDA\n"
          ]
        }
      ]
    },
    {
      "cell_type": "code",
      "source": [
        "# Host based array summation (sum arrays on host)\n",
        "%%writefile sumArraysOnHost.c\n",
        "#include <stdlib.h>\n",
        "#include <string.h>\n",
        "#include <time.h>\n",
        "#include <stdio.h>\n",
        "\n",
        "void sumArraysOnHost(float* A , float* B , float* C , const int N)\n",
        "{\n",
        "  for(int index = 0 ; index < N ; index++)\n",
        "  {\n",
        "    C[index] = A[index] + B[index];\n",
        "  }\n",
        "}\n",
        "\n",
        "void initData(float* ip , int size)\n",
        "{\n",
        "  time_t t;\n",
        "  float count = 1.0;\n",
        "  for(int index = 0 ; index < size ; index++)\n",
        "  {\n",
        "    ip[index] = count;\n",
        "    count++;\n",
        "  }\n",
        "}\n",
        "\n",
        "void printArrays(float* A , float* B , float* C , int nElem)\n",
        "{\n",
        "  for(int index = 0 ; index < nElem ; index++)\n",
        "  {\n",
        "    printf(\"%f + %f = %f\\n\", A[index] , B[index] , C[index]);\n",
        "  }\n",
        "}\n",
        "int main(int argc , char** argv)\n",
        "{\n",
        "  int nElem = 32;\n",
        "  size_t nBytes = nElem * sizeof(float);\n",
        "\n",
        "  float* h_A;\n",
        "  float* h_B;\n",
        "  float* h_C;\n",
        "  h_A = (float*)malloc(nBytes);\n",
        "  h_B = (float*)malloc(nBytes);\n",
        "  h_C = (float*)malloc(nBytes);\n",
        "\n",
        "  initData(h_A , nElem);\n",
        "  initData(h_B, nElem);\n",
        "\n",
        "  sumArraysOnHost(h_A , h_B , h_C , nElem);\n",
        "\n",
        "  printArrays(h_A , h_B , h_C , nElem);\n",
        "\n",
        "  free(h_A);\n",
        "  free(h_B);\n",
        "  free(h_C);\n",
        "  return 0;\n",
        "}\n"
      ],
      "metadata": {
        "id": "Ut5phR77WtGI",
        "outputId": "ef65fc25-5ca7-48ed-8441-ba4c2a6e4f14",
        "colab": {
          "base_uri": "https://localhost:8080/"
        }
      },
      "execution_count": 29,
      "outputs": [
        {
          "output_type": "stream",
          "name": "stdout",
          "text": [
            "Overwriting sumArraysOnHost.c\n"
          ]
        }
      ]
    },
    {
      "cell_type": "code",
      "source": [
        "!nvcc -Xcompiler -std=c99 sumArraysOnHost.c -o sum"
      ],
      "metadata": {
        "id": "YElV-T0iWwUv",
        "outputId": "98f01f38-9c4d-451c-d688-2d6552f141e5",
        "colab": {
          "base_uri": "https://localhost:8080/"
        }
      },
      "execution_count": 30,
      "outputs": [
        {
          "output_type": "stream",
          "name": "stdout",
          "text": [
            "\u001b[01m\u001b[Kcc1plus:\u001b[m\u001b[K \u001b[01;35m\u001b[Kwarning: \u001b[m\u001b[Kcommand-line option ‘\u001b[01m\u001b[K-std=c99\u001b[m\u001b[K’ is valid for C/ObjC but not for C++\n"
          ]
        }
      ]
    },
    {
      "cell_type": "code",
      "source": [
        "!./sum"
      ],
      "metadata": {
        "id": "mTb0FLH8XfJX",
        "outputId": "470009c9-1785-451e-c96f-4ec35cb9133c",
        "colab": {
          "base_uri": "https://localhost:8080/"
        }
      },
      "execution_count": 31,
      "outputs": [
        {
          "output_type": "stream",
          "name": "stdout",
          "text": [
            "1.000000 + 1.000000 = 2.000000\n",
            "2.000000 + 2.000000 = 4.000000\n",
            "3.000000 + 3.000000 = 6.000000\n",
            "4.000000 + 4.000000 = 8.000000\n",
            "5.000000 + 5.000000 = 10.000000\n",
            "6.000000 + 6.000000 = 12.000000\n",
            "7.000000 + 7.000000 = 14.000000\n",
            "8.000000 + 8.000000 = 16.000000\n",
            "9.000000 + 9.000000 = 18.000000\n",
            "10.000000 + 10.000000 = 20.000000\n",
            "11.000000 + 11.000000 = 22.000000\n",
            "12.000000 + 12.000000 = 24.000000\n",
            "13.000000 + 13.000000 = 26.000000\n",
            "14.000000 + 14.000000 = 28.000000\n",
            "15.000000 + 15.000000 = 30.000000\n",
            "16.000000 + 16.000000 = 32.000000\n",
            "17.000000 + 17.000000 = 34.000000\n",
            "18.000000 + 18.000000 = 36.000000\n",
            "19.000000 + 19.000000 = 38.000000\n",
            "20.000000 + 20.000000 = 40.000000\n",
            "21.000000 + 21.000000 = 42.000000\n",
            "22.000000 + 22.000000 = 44.000000\n",
            "23.000000 + 23.000000 = 46.000000\n",
            "24.000000 + 24.000000 = 48.000000\n",
            "25.000000 + 25.000000 = 50.000000\n",
            "26.000000 + 26.000000 = 52.000000\n",
            "27.000000 + 27.000000 = 54.000000\n",
            "28.000000 + 28.000000 = 56.000000\n",
            "29.000000 + 29.000000 = 58.000000\n",
            "30.000000 + 30.000000 = 60.000000\n",
            "31.000000 + 31.000000 = 62.000000\n",
            "32.000000 + 32.000000 = 64.000000\n"
          ]
        }
      ]
    },
    {
      "cell_type": "code",
      "source": [
        "# Host based array summation (sum arrays on host)\n",
        "%%writefile sumArraysOnGPU_Smallcase.cu\n",
        "#include <cuda_runtime.h>\n",
        "#include <stdio.h>\n",
        "\n",
        "void checkResult(float* hostRef , float* gpuRef , const int N)\n",
        "{\n",
        "  double epsilon = 1.0E-8;\n",
        "  bool match = 1;\n",
        "\n",
        "  for(int index = 0 ; index < N ; index++)\n",
        "  {\n",
        "    if(abs(hostRef[index] - gpuRef[index]) > epsilon)\n",
        "    {\n",
        "      match = 0;\n",
        "      printf(\"Arrays do not match! \\n\");\n",
        "      printf(\"Host %5.2f gpu %5.2f at current %d\\n\", hostRef[index] , gpuRef[index], index);\n",
        "      break;\n",
        "    }\n",
        "  }\n",
        "  if(match)\n",
        "  {\n",
        "    printf(\"Arrays Match. \\n\");\n",
        "  }\n",
        "  return;\n",
        "}\n",
        "\n",
        "void initData(float* ip , int size)\n",
        "{\n",
        "  double count = 1.0;\n",
        "  for(int index = 0 ; index < size ; index++)\n",
        "  {\n",
        "    ip[index] = count;\n",
        "    count+=1;\n",
        "  }\n",
        "  return;\n",
        "}\n",
        "\n",
        "void sumArraysOnHost(float* A , float* B , float* C , const int N)\n",
        "{\n",
        "  for(int index = 0 ; index < N ; index++)\n",
        "  {\n",
        "    C[index] = A[index] + B[index];\n",
        "  }\n",
        "}\n",
        "\n",
        "__global__ void sumArrayOnGPU(float* A, float* B , float* C , const int N)\n",
        "{\n",
        "  int index = threadIdx.x;\n",
        "\n",
        "  if(index < N) C[index] = A[index] + B[index];\n",
        "}\n",
        "\n",
        "int main(int argc , char** argv)\n",
        "{\n",
        "\n",
        "  int dev = 0;\n",
        "  cudaSetDevice(dev);\n",
        "\n",
        "  int nElem = 1 << 5;\n",
        "  printf(\"Vector size : %d \\n\" , nElem);\n",
        "\n",
        "  size_t nBytes = nElem * sizeof(float);\n",
        "\n",
        "  float* h_A , *h_B , *hostRef , *gpuRef;\n",
        "  h_A = (float*)malloc(nBytes);\n",
        "  h_B = (float*)malloc(nBytes);\n",
        "  hostRef = (float*)malloc(nBytes);\n",
        "  gpuRef = (float*)malloc(nBytes);\n",
        "\n",
        "  initData(h_A , nElem);\n",
        "  initData(h_B , nElem);\n",
        "\n",
        "  memset(hostRef , 0 , nBytes);\n",
        "  memset(gpuRef , 0 , nBytes);\n",
        "\n",
        "  float* d_A , *d_B , *d_C;\n",
        "  cudaMalloc((float**)&d_A , nBytes);\n",
        "  cudaMalloc((float**)&d_B , nBytes);\n",
        "  cudaMalloc((float**)&d_C , nBytes);\n",
        "\n",
        "  cudaMemcpy(d_A , h_A , nBytes , cudaMemcpyHostToDevice);\n",
        "  cudaMemcpy(d_B , h_B , nBytes , cudaMemcpyHostToDevice);\n",
        "  cudaMemcpy(d_C , gpuRef , nBytes , cudaMemcpyHostToDevice);\n",
        "\n",
        "  dim3 block (nElem);\n",
        "  dim3 grid(1);\n",
        "\n",
        "  sumArrayOnGPU<<<grid , block>>>(d_A , d_B , d_C , nElem);\n",
        "  printf(\"Execution configuration : <<<%d , %d>>>\\n\", grid.x , block.x);\n",
        "\n",
        "  cudaMemcpy(gpuRef, d_C , nBytes , cudaMemcpyDeviceToHost);\n",
        "\n",
        "  sumArraysOnHost(h_A , h_B , hostRef, nElem);\n",
        "\n",
        "  checkResult(hostRef , gpuRef , nElem);\n",
        "\n",
        "  cudaFree(d_A);\n",
        "  cudaFree(d_B);\n",
        "  cudaFree(d_C);\n",
        "\n",
        "  free(h_A);\n",
        "  free(h_B);\n",
        "  free(hostRef);\n",
        "  free(gpuRef);\n",
        "\n",
        "  cudaDeviceReset();\n",
        "}"
      ],
      "metadata": {
        "id": "FdWQWSyljPiT",
        "outputId": "1e14a53b-3adf-40f9-c465-95ed52bcc9b6",
        "colab": {
          "base_uri": "https://localhost:8080/"
        }
      },
      "execution_count": 49,
      "outputs": [
        {
          "output_type": "stream",
          "name": "stdout",
          "text": [
            "Overwriting sumArraysOnGPU_Smallcase.cu\n"
          ]
        }
      ]
    },
    {
      "cell_type": "code",
      "source": [
        "!nvcc -Xcompiler -std=c99 sumArraysOnGPU_Smallcase.cu  -o sum"
      ],
      "metadata": {
        "id": "EuARNmk2nDwj",
        "outputId": "86a90b56-dcbe-40cc-9de2-8596f82b46f4",
        "colab": {
          "base_uri": "https://localhost:8080/"
        }
      },
      "execution_count": 51,
      "outputs": [
        {
          "output_type": "stream",
          "name": "stdout",
          "text": [
            "\u001b[01m\u001b[Kcc1plus:\u001b[m\u001b[K \u001b[01;35m\u001b[Kwarning: \u001b[m\u001b[Kcommand-line option ‘\u001b[01m\u001b[K-std=c99\u001b[m\u001b[K’ is valid for C/ObjC but not for C++\n",
            "\u001b[01m\u001b[Kcc1plus:\u001b[m\u001b[K \u001b[01;35m\u001b[Kwarning: \u001b[m\u001b[Kcommand-line option ‘\u001b[01m\u001b[K-std=c99\u001b[m\u001b[K’ is valid for C/ObjC but not for C++\n",
            "\u001b[01m\u001b[Kcc1plus:\u001b[m\u001b[K \u001b[01;35m\u001b[Kwarning: \u001b[m\u001b[Kcommand-line option ‘\u001b[01m\u001b[K-std=c99\u001b[m\u001b[K’ is valid for C/ObjC but not for C++\n",
            "\u001b[01m\u001b[Kcc1plus:\u001b[m\u001b[K \u001b[01;35m\u001b[Kwarning: \u001b[m\u001b[Kcommand-line option ‘\u001b[01m\u001b[K-std=c99\u001b[m\u001b[K’ is valid for C/ObjC but not for C++\n"
          ]
        }
      ]
    },
    {
      "cell_type": "code",
      "source": [
        "!./sum"
      ],
      "metadata": {
        "id": "OhdBuwAcwbFD",
        "outputId": "1e17309a-c3e1-470c-b1c9-44ee8340982d",
        "colab": {
          "base_uri": "https://localhost:8080/"
        }
      },
      "execution_count": 52,
      "outputs": [
        {
          "output_type": "stream",
          "name": "stdout",
          "text": [
            "Vector size : 32 \n",
            "Execution configuration : <<<1 , 32>>>\n",
            "Arrays Match. \n"
          ]
        }
      ]
    },
    {
      "cell_type": "code",
      "source": [],
      "metadata": {
        "id": "4bVl4JCixeFC"
      },
      "execution_count": null,
      "outputs": []
    }
  ]
}