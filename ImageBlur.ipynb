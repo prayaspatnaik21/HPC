{
  "nbformat": 4,
  "nbformat_minor": 0,
  "metadata": {
    "colab": {
      "provenance": [],
      "gpuType": "T4",
      "authorship_tag": "ABX9TyP0lttgOTAXCqmKuB2P+ngw",
      "include_colab_link": true
    },
    "kernelspec": {
      "name": "python3",
      "display_name": "Python 3"
    },
    "language_info": {
      "name": "python"
    },
    "accelerator": "GPU"
  },
  "cells": [
    {
      "cell_type": "markdown",
      "metadata": {
        "id": "view-in-github",
        "colab_type": "text"
      },
      "source": [
        "<a href=\"https://colab.research.google.com/github/prayaspatnaik21/HPC/blob/main/ImageBlur.ipynb\" target=\"_parent\"><img src=\"https://colab.research.google.com/assets/colab-badge.svg\" alt=\"Open In Colab\"/></a>"
      ]
    },
    {
      "cell_type": "code",
      "execution_count": 1,
      "metadata": {
        "colab": {
          "base_uri": "https://localhost:8080/"
        },
        "id": "eKNc_sMpApdT",
        "outputId": "ec2a73c5-527e-4733-a3e4-81304efba6d7"
      },
      "outputs": [
        {
          "output_type": "stream",
          "name": "stdout",
          "text": [
            "Reading package lists... Done\n",
            "Building dependency tree... Done\n",
            "Reading state information... Done\n",
            "The following packages were automatically installed and are no longer required:\n",
            "  adwaita-icon-theme dbus-user-session dconf-gsettings-backend dconf-service gtk-update-icon-cache\n",
            "  hicolor-icon-theme humanity-icon-theme libatk-bridge2.0-0 libatk1.0-0 libatk1.0-data\n",
            "  libatspi2.0-0 libavcodec-dev libavformat-dev libavutil-dev libcharls2 libcolord2 libdc1394-dev\n",
            "  libdconf1 libdouble-conversion3 libepoxy0 libexif-dev libexif12 libgdcm-dev libgdcm3.0\n",
            "  libgl2ps1.4 libglew2.2 libgphoto2-6 libgphoto2-dev libgphoto2-port12\n",
            "  libgstreamer-plugins-base1.0-0 libgtk-3-0 libgtk-3-common libilmbase-dev libilmbase25 liblept5\n",
            "  libopencv-calib3d-dev libopencv-calib3d4.5d libopencv-contrib-dev libopencv-contrib4.5d\n",
            "  libopencv-core-dev libopencv-core4.5d libopencv-dnn-dev libopencv-dnn4.5d\n",
            "  libopencv-features2d-dev libopencv-features2d4.5d libopencv-flann-dev libopencv-flann4.5d\n",
            "  libopencv-highgui-dev libopencv-highgui4.5d libopencv-imgcodecs-dev libopencv-imgcodecs4.5d\n",
            "  libopencv-imgproc-dev libopencv-imgproc4.5d libopencv-ml-dev libopencv-ml4.5d\n",
            "  libopencv-objdetect-dev libopencv-objdetect4.5d libopencv-photo-dev libopencv-photo4.5d\n",
            "  libopencv-shape-dev libopencv-shape4.5d libopencv-stitching-dev libopencv-stitching4.5d\n",
            "  libopencv-superres-dev libopencv-superres4.5d libopencv-video-dev libopencv-video4.5d\n",
            "  libopencv-videoio-dev libopencv-videoio4.5d libopencv-videostab-dev libopencv-videostab4.5d\n",
            "  libopencv-viz-dev libopencv-viz4.5d libopenexr-dev libopenexr25 liborc-0.4-0 libraw1394-dev\n",
            "  libsocket++1 libswresample-dev libswscale-dev libtbb-dev libtbb12 libtbbmalloc2 libtesseract4\n",
            "  libvtk9.1 libxcomposite1 libxdamage1 ubuntu-mono\n",
            "Use 'apt autoremove' to remove them.\n",
            "The following packages will be REMOVED:\n",
            "  libopencv-dev\n",
            "0 upgraded, 0 newly installed, 1 to remove and 49 not upgraded.\n",
            "After this operation, 384 kB disk space will be freed.\n",
            "(Reading database ... 123632 files and directories currently installed.)\n",
            "Removing libopencv-dev (4.5.4+dfsg-9ubuntu4+jammy0) ...\n",
            "Processing triggers for man-db (2.10.2-1) ...\n",
            "Get:1 https://cloud.r-project.org/bin/linux/ubuntu jammy-cran40/ InRelease [3,626 B]\n",
            "Get:2 https://developer.download.nvidia.com/compute/cuda/repos/ubuntu2204/x86_64  InRelease [1,581 B]\n",
            "Get:3 http://security.ubuntu.com/ubuntu jammy-security InRelease [129 kB]\n",
            "Hit:4 http://archive.ubuntu.com/ubuntu jammy InRelease\n",
            "Get:5 https://r2u.stat.illinois.edu/ubuntu jammy InRelease [6,555 B]\n",
            "Get:6 http://archive.ubuntu.com/ubuntu jammy-updates InRelease [128 kB]\n",
            "Get:7 https://developer.download.nvidia.com/compute/cuda/repos/ubuntu2204/x86_64  Packages [1,199 kB]\n",
            "Hit:8 https://ppa.launchpadcontent.net/deadsnakes/ppa/ubuntu jammy InRelease\n",
            "Hit:9 https://ppa.launchpadcontent.net/graphics-drivers/ppa/ubuntu jammy InRelease\n",
            "Hit:10 https://ppa.launchpadcontent.net/ubuntugis/ppa/ubuntu jammy InRelease\n",
            "Get:11 https://r2u.stat.illinois.edu/ubuntu jammy/main amd64 Packages [2,639 kB]\n",
            "Get:12 http://archive.ubuntu.com/ubuntu jammy-backports InRelease [127 kB]\n",
            "Get:13 http://security.ubuntu.com/ubuntu jammy-security/multiverse amd64 Packages [45.2 kB]\n",
            "Get:14 http://security.ubuntu.com/ubuntu jammy-security/restricted amd64 Packages [3,527 kB]\n",
            "Get:15 https://r2u.stat.illinois.edu/ubuntu jammy/main all Packages [8,588 kB]\n",
            "Get:16 http://security.ubuntu.com/ubuntu jammy-security/main amd64 Packages [2,560 kB]\n",
            "Get:17 http://security.ubuntu.com/ubuntu jammy-security/universe amd64 Packages [1,227 kB]\n",
            "Get:18 http://archive.ubuntu.com/ubuntu jammy-updates/universe amd64 Packages [1,518 kB]\n",
            "Get:19 http://archive.ubuntu.com/ubuntu jammy-updates/main amd64 Packages [2,859 kB]\n",
            "Get:20 http://archive.ubuntu.com/ubuntu jammy-updates/restricted amd64 Packages [3,663 kB]\n",
            "Fetched 28.2 MB in 4s (6,541 kB/s)\n",
            "Reading package lists... Done\n",
            "W: Skipping acquire of configured file 'main/source/Sources' as repository 'https://r2u.stat.illinois.edu/ubuntu jammy InRelease' does not seem to provide it (sources.list entry misspelt?)\n",
            "Reading package lists... Done\n",
            "Building dependency tree... Done\n",
            "Reading state information... Done\n",
            "The following additional packages will be installed:\n",
            "  libopencv4.5-java libopencv4.5d-jni opencv-data\n",
            "Suggested packages:\n",
            "  opencv-doc\n",
            "The following NEW packages will be installed:\n",
            "  libopencv-dev libopencv4.5-java libopencv4.5d-jni opencv-data\n",
            "0 upgraded, 4 newly installed, 0 to remove and 50 not upgraded.\n",
            "Need to get 2,989 kB of archives.\n",
            "After this operation, 14.5 MB of additional disk space will be used.\n",
            "Get:1 https://ppa.launchpadcontent.net/ubuntugis/ppa/ubuntu jammy/main amd64 libopencv-dev amd64 4.5.4+dfsg-9ubuntu4+jammy0 [109 kB]\n",
            "Get:2 https://ppa.launchpadcontent.net/ubuntugis/ppa/ubuntu jammy/main amd64 libopencv4.5d-jni amd64 4.5.4+dfsg-9ubuntu4+jammy0 [506 kB]\n",
            "Get:3 https://ppa.launchpadcontent.net/ubuntugis/ppa/ubuntu jammy/main amd64 libopencv4.5-java amd64 4.5.4+dfsg-9ubuntu4+jammy0 [1,002 kB]\n",
            "Get:4 https://ppa.launchpadcontent.net/ubuntugis/ppa/ubuntu jammy/main amd64 opencv-data all 4.5.4+dfsg-9ubuntu4+jammy0 [1,371 kB]\n",
            "Fetched 2,989 kB in 2s (1,255 kB/s)\n",
            "Selecting previously unselected package libopencv-dev.\n",
            "(Reading database ... 123610 files and directories currently installed.)\n",
            "Preparing to unpack .../libopencv-dev_4.5.4+dfsg-9ubuntu4+jammy0_amd64.deb ...\n",
            "Unpacking libopencv-dev (4.5.4+dfsg-9ubuntu4+jammy0) ...\n",
            "Selecting previously unselected package libopencv4.5d-jni.\n",
            "Preparing to unpack .../libopencv4.5d-jni_4.5.4+dfsg-9ubuntu4+jammy0_amd64.deb ...\n",
            "Unpacking libopencv4.5d-jni (4.5.4+dfsg-9ubuntu4+jammy0) ...\n",
            "Selecting previously unselected package libopencv4.5-java.\n",
            "Preparing to unpack .../libopencv4.5-java_4.5.4+dfsg-9ubuntu4+jammy0_amd64.deb ...\n",
            "Unpacking libopencv4.5-java (4.5.4+dfsg-9ubuntu4+jammy0) ...\n",
            "Selecting previously unselected package opencv-data.\n",
            "Preparing to unpack .../opencv-data_4.5.4+dfsg-9ubuntu4+jammy0_all.deb ...\n",
            "Unpacking opencv-data (4.5.4+dfsg-9ubuntu4+jammy0) ...\n",
            "Setting up libopencv4.5d-jni (4.5.4+dfsg-9ubuntu4+jammy0) ...\n",
            "Setting up libopencv4.5-java (4.5.4+dfsg-9ubuntu4+jammy0) ...\n",
            "Setting up libopencv-dev (4.5.4+dfsg-9ubuntu4+jammy0) ...\n",
            "Setting up opencv-data (4.5.4+dfsg-9ubuntu4+jammy0) ...\n",
            "Processing triggers for man-db (2.10.2-1) ...\n"
          ]
        }
      ],
      "source": [
        "!apt-get remove libopencv-dev\n",
        "!apt-get update\n",
        "!apt-get install libopencv-dev"
      ]
    },
    {
      "cell_type": "code",
      "source": [
        "import cv2\n",
        "import numpy as np\n",
        "import urllib.request\n",
        "from matplotlib import pyplot as plt\n",
        "\n",
        "# **Updated URL to the raw image file**\n",
        "url = \"https://raw.githubusercontent.com/prayaspatnaik21/DataSet/main/Project/110.jpg\"\n",
        "urllib.request.urlretrieve(url, \"103.jpg\")\n",
        "print(\"Image downloaded successfully!\")"
      ],
      "metadata": {
        "colab": {
          "base_uri": "https://localhost:8080/"
        },
        "id": "fvXTU366Axs-",
        "outputId": "19b40c79-4b7c-40aa-cdb5-600d2407d470"
      },
      "execution_count": 2,
      "outputs": [
        {
          "output_type": "stream",
          "name": "stdout",
          "text": [
            "Image downloaded successfully!\n"
          ]
        }
      ]
    },
    {
      "cell_type": "code",
      "source": [
        "# Grey Scale Conversion\n",
        "%%writefile blurImage.cu\n",
        "#include <cuda_runtime.h>\n",
        "#include <opencv2/opencv.hpp>\n",
        "#include <iostream>\n",
        "\n",
        "const int BLUR_SIZE = 2;\n",
        "__global__ void blurKernel(unsigned char* pIn , unsigned char* pOut , int width , int height)\n",
        "{\n",
        "    int col = blockIdx.x * blockDim.x + threadIdx.x;\n",
        "    int row = blockIdx.y * blockDim.y + threadIdx.y;\n",
        "\n",
        "    if(col < width && row < height)\n",
        "    {\n",
        "        int pixValr = 0;\n",
        "        int pixValg = 0;\n",
        "        int pixValb = 0;\n",
        "        int pixels = 0;\n",
        "\n",
        "        for(int blurRow = -BLUR_SIZE ; blurRow < BLUR_SIZE + 1 ; ++blurRow)\n",
        "        {\n",
        "            for(int blurCol = -BLUR_SIZE ; blurCol < BLUR_SIZE + 1 ; ++blurCol)\n",
        "            {\n",
        "                int currRow = row + blurRow;\n",
        "                int currCol = col + blurCol;\n",
        "\n",
        "                if(currRow >= 0 && currRow < height && currCol >= 0 && currCol < width)\n",
        "                {\n",
        "                  int grayOffSet = currRow * width + currCol;\n",
        "                  int rgbOffset = grayOffSet * 3;\n",
        "                  pixValr += pIn[rgbOffset];\n",
        "                  pixValg += pIn[rgbOffset + 1];\n",
        "                  pixValb += pIn[rgbOffset + 2];\n",
        "                  ++pixels;\n",
        "                }\n",
        "            }\n",
        "        }\n",
        "        int grayOffset = row * width + col;\n",
        "        int rgbOffset = grayOffset * 3;\n",
        "        pOut[rgbOffset] = pixValr / pixels;\n",
        "        pOut[rgbOffset + 1] = pixValg / pixels;\n",
        "        pOut[rgbOffset + 2] = pixValb / pixels;\n",
        "    }\n",
        "}\n",
        "\n",
        "cv::Mat getImage()\n",
        "{\n",
        "  // Read the image (in BGR format by default)\n",
        "  cv::Mat image = cv::imread(\"103.jpg\");\n",
        "  if(image.empty())\n",
        "  {\n",
        "    std::cerr << \"Error : could not load image\" << std::endl;\n",
        "    exit(-1);\n",
        "  }\n",
        "  return image;\n",
        "}\n",
        "\n",
        "int main()\n",
        "{\n",
        "    cv::Mat image = getImage();\n",
        "    int width = image.cols;\n",
        "    int height = image.rows;\n",
        "    int channels = image.channels();\n",
        "\n",
        "    std::cout << \"Image Width : \" << width << std::endl;\n",
        "    std::cout << \"Image Height: \" << height << std::endl;\n",
        "    std::cout << \"Image Channels: \" << channels << std::endl;\n",
        "\n",
        "    int numPixels = width * height;\n",
        "\n",
        "    cv::Mat blurImage(height, width, CV_8UC3);\n",
        "\n",
        "    //Allocate Memory on the device\n",
        "    unsigned char* pIn;\n",
        "    unsigned char* pOut;\n",
        "\n",
        "    cudaMalloc(&pIn , numPixels * 3);\n",
        "    cudaMalloc(&pOut , numPixels * 3);\n",
        "\n",
        "    // copy the input image data to the device\n",
        "    cudaMemcpy(pIn , image.data , numPixels * 3 , cudaMemcpyHostToDevice);\n",
        "\n",
        "    // Define block and grid Sizes\n",
        "    dim3 blockDim(16,16);\n",
        "    dim3 gridDim((width + blockDim.x - 1) / blockDim.x , (height + blockDim.y - 1) / blockDim.y);\n",
        "\n",
        "    // Launch the blur Kernel\n",
        "    blurKernel<<<gridDim , blockDim>>>(pIn , pOut , width , height);\n",
        "\n",
        "    //Check for kernel launch errors\n",
        "    cudaError_t error = cudaGetLastError();\n",
        "    if(error != cudaSuccess)\n",
        "    {\n",
        "      std::cerr << \"Error : \" << cudaGetErrorString(error) << std::endl;\n",
        "      return -1;\n",
        "    }\n",
        "\n",
        "    //wait for kernel to finish\n",
        "    cudaDeviceSynchronize();\n",
        "\n",
        "    // Copy the result back to the host\n",
        "    cudaMemcpy(blurImage.data , pOut , numPixels * 3 , cudaMemcpyDeviceToHost);\n",
        "\n",
        "    // save the blurred image\n",
        "    cv::imwrite(\"blurred_image.jpg\" , blurImage);\n",
        "\n",
        "    // Release the device memory\n",
        "    cudaFree(pIn);\n",
        "    cudaFree(pOut);\n",
        "\n",
        "    return 0;\n",
        "\n",
        "}\n",
        "\n"
      ],
      "metadata": {
        "colab": {
          "base_uri": "https://localhost:8080/"
        },
        "id": "Ao97WEWzA9ax",
        "outputId": "6b544560-3115-4fda-f6d0-764ea8e65ab1"
      },
      "execution_count": 3,
      "outputs": [
        {
          "output_type": "stream",
          "name": "stdout",
          "text": [
            "Writing blurImage.cu\n"
          ]
        }
      ]
    },
    {
      "cell_type": "code",
      "source": [
        "!nvcc blurImage.cu -o blurImage -I/usr/include/opencv4 `pkg-config --cflags --libs opencv4`"
      ],
      "metadata": {
        "colab": {
          "base_uri": "https://localhost:8080/"
        },
        "id": "4k9WloEzB_8U",
        "outputId": "3527fd4b-b5ea-493e-d042-24899a092bbd"
      },
      "execution_count": 4,
      "outputs": [
        {
          "output_type": "stream",
          "name": "stdout",
          "text": [
            "\u001b[01m\u001b[0m\u001b[01m/usr/include/opencv4/opencv2/stitching/detail/warpers.hpp(235)\u001b[0m: \u001b[01;35mwarning\u001b[0m #611-D: overloaded virtual function \u001b[01m\"cv::detail::PlaneWarper::buildMaps\"\u001b[0m is only partially overridden in class \u001b[01m\"cv::detail::AffineWarper\"\u001b[0m\n",
            "  class AffineWarper : public PlaneWarper\n",
            "        ^\n",
            "\n",
            "\u001b[01;36m\u001b[0m\u001b[01;36mRemark\u001b[0m: The warnings can be suppressed with \"-diag-suppress <warning-number>\"\n",
            "\n",
            "\u001b[01m\u001b[0m\u001b[01m/usr/include/opencv4/opencv2/stitching/detail/warpers.hpp(235)\u001b[0m: \u001b[01;35mwarning\u001b[0m #611-D: overloaded virtual function \u001b[01m\"cv::detail::PlaneWarper::warp\"\u001b[0m is only partially overridden in class \u001b[01m\"cv::detail::AffineWarper\"\u001b[0m\n",
            "  class AffineWarper : public PlaneWarper\n",
            "        ^\n",
            "\n",
            "\u001b[01m\u001b[0m\u001b[01m/usr/include/opencv4/opencv2/stitching/detail/blenders.hpp(100)\u001b[0m: \u001b[01;35mwarning\u001b[0m #611-D: overloaded virtual function \u001b[01m\"cv::detail::Blender::prepare\"\u001b[0m is only partially overridden in class \u001b[01m\"cv::detail::FeatherBlender\"\u001b[0m\n",
            "  class FeatherBlender : public Blender\n",
            "        ^\n",
            "\n",
            "\u001b[01m\u001b[0m\u001b[01m/usr/include/opencv4/opencv2/stitching/detail/blenders.hpp(127)\u001b[0m: \u001b[01;35mwarning\u001b[0m #611-D: overloaded virtual function \u001b[01m\"cv::detail::Blender::prepare\"\u001b[0m is only partially overridden in class \u001b[01m\"cv::detail::MultiBandBlender\"\u001b[0m\n",
            "  class MultiBandBlender : public Blender\n",
            "        ^\n",
            "\n",
            "\u001b[01m\u001b[0m\u001b[01m/usr/include/opencv4/opencv2/stitching/detail/warpers.hpp(235)\u001b[0m: \u001b[01;35mwarning\u001b[0m #611-D: overloaded virtual function \u001b[01m\"cv::detail::PlaneWarper::buildMaps\"\u001b[0m is only partially overridden in class \u001b[01m\"cv::detail::AffineWarper\"\u001b[0m\n",
            "  class AffineWarper : public PlaneWarper\n",
            "        ^\n",
            "\n",
            "\u001b[01;36m\u001b[0m\u001b[01;36mRemark\u001b[0m: The warnings can be suppressed with \"-diag-suppress <warning-number>\"\n",
            "\n",
            "\u001b[01m\u001b[0m\u001b[01m/usr/include/opencv4/opencv2/stitching/detail/warpers.hpp(235)\u001b[0m: \u001b[01;35mwarning\u001b[0m #611-D: overloaded virtual function \u001b[01m\"cv::detail::PlaneWarper::warp\"\u001b[0m is only partially overridden in class \u001b[01m\"cv::detail::AffineWarper\"\u001b[0m\n",
            "  class AffineWarper : public PlaneWarper\n",
            "        ^\n",
            "\n",
            "\u001b[01m\u001b[0m\u001b[01m/usr/include/opencv4/opencv2/stitching/detail/blenders.hpp(100)\u001b[0m: \u001b[01;35mwarning\u001b[0m #611-D: overloaded virtual function \u001b[01m\"cv::detail::Blender::prepare\"\u001b[0m is only partially overridden in class \u001b[01m\"cv::detail::FeatherBlender\"\u001b[0m\n",
            "  class FeatherBlender : public Blender\n",
            "        ^\n",
            "\n",
            "\u001b[01m\u001b[0m\u001b[01m/usr/include/opencv4/opencv2/stitching/detail/blenders.hpp(127)\u001b[0m: \u001b[01;35mwarning\u001b[0m #611-D: overloaded virtual function \u001b[01m\"cv::detail::Blender::prepare\"\u001b[0m is only partially overridden in class \u001b[01m\"cv::detail::MultiBandBlender\"\u001b[0m\n",
            "  class MultiBandBlender : public Blender\n",
            "        ^\n",
            "\n"
          ]
        }
      ]
    },
    {
      "cell_type": "code",
      "source": [
        "!./blurImage"
      ],
      "metadata": {
        "colab": {
          "base_uri": "https://localhost:8080/"
        },
        "id": "KyIPoI8cQsRh",
        "outputId": "ad05091e-d378-4733-f3f2-c90eb05068e8"
      },
      "execution_count": 5,
      "outputs": [
        {
          "output_type": "stream",
          "name": "stdout",
          "text": [
            "Image Width : 150\n",
            "Image Height: 150\n",
            "Image Channels: 3\n",
            "dfa"
          ]
        }
      ]
    },
    {
      "cell_type": "code",
      "source": [
        "import cv2\n",
        "import matplotlib.pyplot as plt"
      ],
      "metadata": {
        "id": "yyYDBikcPMjt"
      },
      "execution_count": 15,
      "outputs": []
    },
    {
      "cell_type": "code",
      "source": [],
      "metadata": {
        "id": "xrhs4J-EPkwr"
      },
      "execution_count": null,
      "outputs": []
    }
  ]
}